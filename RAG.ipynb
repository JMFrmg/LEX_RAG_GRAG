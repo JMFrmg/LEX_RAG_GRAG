{
 "cells": [
  {
   "cell_type": "code",
   "execution_count": 1,
   "id": "b7835a4b-0bfa-4904-9943-6ed9eab49b69",
   "metadata": {},
   "outputs": [
    {
     "name": "stdout",
     "output_type": "stream",
     "text": [
      "Collecting ijson\n",
      "  Downloading ijson-3.3.0-cp312-cp312-manylinux_2_17_x86_64.manylinux2014_x86_64.whl.metadata (21 kB)\n",
      "Collecting spider-client\n",
      "  Downloading spider-client-0.1.23.tar.gz (15 kB)\n",
      "  Installing build dependencies ... \u001b[?25ldone\n",
      "\u001b[?25h  Getting requirements to build wheel ... \u001b[?25ldone\n",
      "\u001b[?25h  Preparing metadata (pyproject.toml) ... \u001b[?25ldone\n",
      "\u001b[?25hCollecting langchain_mistralai\n",
      "  Using cached langchain_mistralai-0.2.1-py3-none-any.whl.metadata (2.4 kB)\n",
      "Collecting langchain_community\n",
      "  Using cached langchain_community-0.3.5-py3-none-any.whl.metadata (2.9 kB)\n",
      "Requirement already satisfied: beautifulsoup4 in ./.venv/lib/python3.12/site-packages (4.12.3)\n",
      "Collecting faiss-cpu\n",
      "  Downloading faiss_cpu-1.9.0-cp312-cp312-manylinux_2_17_x86_64.manylinux2014_x86_64.whl.metadata (4.4 kB)\n",
      "Collecting langchain-text-splitters\n",
      "  Using cached langchain_text_splitters-0.3.2-py3-none-any.whl.metadata (2.3 kB)\n",
      "Collecting sentence-transformers\n",
      "  Using cached sentence_transformers-3.2.1-py3-none-any.whl.metadata (10 kB)\n",
      "Collecting mistralai\n",
      "  Downloading mistralai-1.2.1-py3-none-any.whl.metadata (26 kB)\n",
      "Requirement already satisfied: requests in ./.venv/lib/python3.12/site-packages (from spider-client) (2.32.3)\n",
      "Requirement already satisfied: httpx<1,>=0.25.2 in ./.venv/lib/python3.12/site-packages (from langchain_mistralai) (0.27.2)\n",
      "Collecting httpx-sse<1,>=0.3.1 (from langchain_mistralai)\n",
      "  Using cached httpx_sse-0.4.0-py3-none-any.whl.metadata (9.0 kB)\n",
      "Collecting langchain-core<0.4.0,>=0.3.15 (from langchain_mistralai)\n",
      "  Using cached langchain_core-0.3.15-py3-none-any.whl.metadata (6.3 kB)\n",
      "Collecting pydantic<3,>=2 (from langchain_mistralai)\n",
      "  Using cached pydantic-2.9.2-py3-none-any.whl.metadata (149 kB)\n",
      "Collecting tokenizers<1,>=0.15.1 (from langchain_mistralai)\n",
      "  Downloading tokenizers-0.20.3-cp312-cp312-manylinux_2_17_x86_64.manylinux2014_x86_64.whl.metadata (6.7 kB)\n",
      "Requirement already satisfied: PyYAML>=5.3 in ./.venv/lib/python3.12/site-packages (from langchain_community) (6.0.2)\n",
      "Collecting SQLAlchemy<2.0.36,>=1.4 (from langchain_community)\n",
      "  Downloading SQLAlchemy-2.0.35-cp312-cp312-manylinux_2_17_x86_64.manylinux2014_x86_64.whl.metadata (9.6 kB)\n",
      "Collecting aiohttp<4.0.0,>=3.8.3 (from langchain_community)\n",
      "  Downloading aiohttp-3.10.10-cp312-cp312-manylinux_2_17_x86_64.manylinux2014_x86_64.whl.metadata (7.6 kB)\n",
      "Collecting dataclasses-json<0.7,>=0.5.7 (from langchain_community)\n",
      "  Using cached dataclasses_json-0.6.7-py3-none-any.whl.metadata (25 kB)\n",
      "Collecting langchain<0.4.0,>=0.3.6 (from langchain_community)\n",
      "  Using cached langchain-0.3.7-py3-none-any.whl.metadata (7.1 kB)\n",
      "Collecting langsmith<0.2.0,>=0.1.125 (from langchain_community)\n",
      "  Downloading langsmith-0.1.142-py3-none-any.whl.metadata (13 kB)\n",
      "Collecting numpy<2.0.0,>=1.26.0 (from langchain_community)\n",
      "  Downloading numpy-1.26.4-cp312-cp312-manylinux_2_17_x86_64.manylinux2014_x86_64.whl.metadata (61 kB)\n",
      "\u001b[2K     \u001b[38;2;114;156;31m━━━━━━━━━━━━━━━━━━━━━━━━━━━━━━━━━━━━━━━━\u001b[0m \u001b[32m61.0/61.0 kB\u001b[0m \u001b[31m4.1 MB/s\u001b[0m eta \u001b[36m0:00:00\u001b[0m\n",
      "\u001b[?25hCollecting pydantic-settings<3.0.0,>=2.4.0 (from langchain_community)\n",
      "  Using cached pydantic_settings-2.6.1-py3-none-any.whl.metadata (3.5 kB)\n",
      "Collecting tenacity!=8.4.0,<10,>=8.1.0 (from langchain_community)\n",
      "  Using cached tenacity-9.0.0-py3-none-any.whl.metadata (1.2 kB)\n",
      "Requirement already satisfied: soupsieve>1.2 in ./.venv/lib/python3.12/site-packages (from beautifulsoup4) (2.6)\n",
      "Requirement already satisfied: packaging in ./.venv/lib/python3.12/site-packages (from faiss-cpu) (24.2)\n",
      "Collecting transformers<5.0.0,>=4.41.0 (from sentence-transformers)\n",
      "  Downloading transformers-4.46.2-py3-none-any.whl.metadata (44 kB)\n",
      "\u001b[2K     \u001b[38;2;114;156;31m━━━━━━━━━━━━━━━━━━━━━━━━━━━━━━━━━━━━━━━━\u001b[0m \u001b[32m44.1/44.1 kB\u001b[0m \u001b[31m13.8 MB/s\u001b[0m eta \u001b[36m0:00:00\u001b[0m\n",
      "\u001b[?25hCollecting tqdm (from sentence-transformers)\n",
      "  Downloading tqdm-4.67.0-py3-none-any.whl.metadata (57 kB)\n",
      "\u001b[2K     \u001b[38;2;114;156;31m━━━━━━━━━━━━━━━━━━━━━━━━━━━━━━━━━━━━━━━━\u001b[0m \u001b[32m57.6/57.6 kB\u001b[0m \u001b[31m18.3 MB/s\u001b[0m eta \u001b[36m0:00:00\u001b[0m\n",
      "\u001b[?25hCollecting torch>=1.11.0 (from sentence-transformers)\n",
      "  Downloading torch-2.5.1-cp312-cp312-manylinux1_x86_64.whl.metadata (28 kB)\n",
      "Collecting scikit-learn (from sentence-transformers)\n",
      "  Downloading scikit_learn-1.5.2-cp312-cp312-manylinux_2_17_x86_64.manylinux2014_x86_64.whl.metadata (13 kB)\n",
      "Collecting scipy (from sentence-transformers)\n",
      "  Downloading scipy-1.14.1-cp312-cp312-manylinux_2_17_x86_64.manylinux2014_x86_64.whl.metadata (60 kB)\n",
      "\u001b[2K     \u001b[38;2;114;156;31m━━━━━━━━━━━━━━━━━━━━━━━━━━━━━━━━━━━━━━━━\u001b[0m \u001b[32m60.8/60.8 kB\u001b[0m \u001b[31m14.2 MB/s\u001b[0m eta \u001b[36m0:00:00\u001b[0m\n",
      "\u001b[?25hCollecting huggingface-hub>=0.20.0 (from sentence-transformers)\n",
      "  Using cached huggingface_hub-0.26.2-py3-none-any.whl.metadata (13 kB)\n",
      "Collecting Pillow (from sentence-transformers)\n",
      "  Downloading pillow-11.0.0-cp312-cp312-manylinux_2_28_x86_64.whl.metadata (9.1 kB)\n",
      "Collecting eval-type-backport<0.3.0,>=0.2.0 (from mistralai)\n",
      "  Using cached eval_type_backport-0.2.0-py3-none-any.whl.metadata (2.2 kB)\n",
      "Collecting jsonpath-python<2.0.0,>=1.0.6 (from mistralai)\n",
      "  Using cached jsonpath_python-1.0.6-py3-none-any.whl.metadata (12 kB)\n",
      "Collecting python-dateutil==2.8.2 (from mistralai)\n",
      "  Using cached python_dateutil-2.8.2-py2.py3-none-any.whl.metadata (8.2 kB)\n",
      "Collecting typing-inspect<0.10.0,>=0.9.0 (from mistralai)\n",
      "  Using cached typing_inspect-0.9.0-py3-none-any.whl.metadata (1.5 kB)\n",
      "Requirement already satisfied: six>=1.5 in ./.venv/lib/python3.12/site-packages (from python-dateutil==2.8.2->mistralai) (1.16.0)\n",
      "Collecting aiohappyeyeballs>=2.3.0 (from aiohttp<4.0.0,>=3.8.3->langchain_community)\n",
      "  Using cached aiohappyeyeballs-2.4.3-py3-none-any.whl.metadata (6.1 kB)\n",
      "Collecting aiosignal>=1.1.2 (from aiohttp<4.0.0,>=3.8.3->langchain_community)\n",
      "  Using cached aiosignal-1.3.1-py3-none-any.whl.metadata (4.0 kB)\n",
      "Requirement already satisfied: attrs>=17.3.0 in ./.venv/lib/python3.12/site-packages (from aiohttp<4.0.0,>=3.8.3->langchain_community) (24.2.0)\n",
      "Collecting frozenlist>=1.1.1 (from aiohttp<4.0.0,>=3.8.3->langchain_community)\n",
      "  Downloading frozenlist-1.5.0-cp312-cp312-manylinux_2_5_x86_64.manylinux1_x86_64.manylinux_2_17_x86_64.manylinux2014_x86_64.whl.metadata (13 kB)\n",
      "Collecting multidict<7.0,>=4.5 (from aiohttp<4.0.0,>=3.8.3->langchain_community)\n",
      "  Downloading multidict-6.1.0-cp312-cp312-manylinux_2_17_x86_64.manylinux2014_x86_64.whl.metadata (5.0 kB)\n",
      "Collecting yarl<2.0,>=1.12.0 (from aiohttp<4.0.0,>=3.8.3->langchain_community)\n",
      "  Downloading yarl-1.17.1-cp312-cp312-manylinux_2_17_x86_64.manylinux2014_x86_64.whl.metadata (64 kB)\n",
      "\u001b[2K     \u001b[38;2;114;156;31m━━━━━━━━━━━━━━━━━━━━━━━━━━━━━━━━━━━━━━━━\u001b[0m \u001b[32m64.8/64.8 kB\u001b[0m \u001b[31m5.1 MB/s\u001b[0m eta \u001b[36m0:00:00\u001b[0m\n",
      "\u001b[?25hCollecting marshmallow<4.0.0,>=3.18.0 (from dataclasses-json<0.7,>=0.5.7->langchain_community)\n",
      "  Using cached marshmallow-3.23.1-py3-none-any.whl.metadata (7.5 kB)\n",
      "Requirement already satisfied: anyio in ./.venv/lib/python3.12/site-packages (from httpx<1,>=0.25.2->langchain_mistralai) (4.6.2.post1)\n",
      "Requirement already satisfied: certifi in ./.venv/lib/python3.12/site-packages (from httpx<1,>=0.25.2->langchain_mistralai) (2024.8.30)\n",
      "Requirement already satisfied: httpcore==1.* in ./.venv/lib/python3.12/site-packages (from httpx<1,>=0.25.2->langchain_mistralai) (1.0.6)\n",
      "Requirement already satisfied: idna in ./.venv/lib/python3.12/site-packages (from httpx<1,>=0.25.2->langchain_mistralai) (3.10)\n",
      "Requirement already satisfied: sniffio in ./.venv/lib/python3.12/site-packages (from httpx<1,>=0.25.2->langchain_mistralai) (1.3.1)\n",
      "Requirement already satisfied: h11<0.15,>=0.13 in ./.venv/lib/python3.12/site-packages (from httpcore==1.*->httpx<1,>=0.25.2->langchain_mistralai) (0.14.0)\n",
      "Collecting filelock (from huggingface-hub>=0.20.0->sentence-transformers)\n",
      "  Using cached filelock-3.16.1-py3-none-any.whl.metadata (2.9 kB)\n",
      "Collecting fsspec>=2023.5.0 (from huggingface-hub>=0.20.0->sentence-transformers)\n",
      "  Using cached fsspec-2024.10.0-py3-none-any.whl.metadata (11 kB)\n",
      "Collecting typing-extensions>=3.7.4.3 (from huggingface-hub>=0.20.0->sentence-transformers)\n",
      "  Using cached typing_extensions-4.12.2-py3-none-any.whl.metadata (3.0 kB)\n",
      "Collecting jsonpatch<2.0,>=1.33 (from langchain-core<0.4.0,>=0.3.15->langchain_mistralai)\n",
      "  Using cached jsonpatch-1.33-py2.py3-none-any.whl.metadata (3.0 kB)\n",
      "Collecting orjson<4.0.0,>=3.9.14 (from langsmith<0.2.0,>=0.1.125->langchain_community)\n",
      "  Downloading orjson-3.10.11-cp312-cp312-manylinux_2_17_x86_64.manylinux2014_x86_64.whl.metadata (50 kB)\n",
      "\u001b[2K     \u001b[38;2;114;156;31m━━━━━━━━━━━━━━━━━━━━━━━━━━━━━━━━━━━━━━━━\u001b[0m \u001b[32m50.8/50.8 kB\u001b[0m \u001b[31m3.5 MB/s\u001b[0m eta \u001b[36m0:00:00\u001b[0m\n",
      "\u001b[?25hCollecting requests-toolbelt<2.0.0,>=1.0.0 (from langsmith<0.2.0,>=0.1.125->langchain_community)\n",
      "  Using cached requests_toolbelt-1.0.0-py2.py3-none-any.whl.metadata (14 kB)\n",
      "Collecting annotated-types>=0.6.0 (from pydantic<3,>=2->langchain_mistralai)\n",
      "  Using cached annotated_types-0.7.0-py3-none-any.whl.metadata (15 kB)\n",
      "Collecting pydantic-core==2.23.4 (from pydantic<3,>=2->langchain_mistralai)\n",
      "  Downloading pydantic_core-2.23.4-cp312-cp312-manylinux_2_17_x86_64.manylinux2014_x86_64.whl.metadata (6.6 kB)\n",
      "Collecting python-dotenv>=0.21.0 (from pydantic-settings<3.0.0,>=2.4.0->langchain_community)\n",
      "  Using cached python_dotenv-1.0.1-py3-none-any.whl.metadata (23 kB)\n",
      "Requirement already satisfied: charset-normalizer<4,>=2 in ./.venv/lib/python3.12/site-packages (from requests->spider-client) (3.4.0)\n",
      "Requirement already satisfied: urllib3<3,>=1.21.1 in ./.venv/lib/python3.12/site-packages (from requests->spider-client) (2.2.3)\n",
      "Collecting greenlet!=0.4.17 (from SQLAlchemy<2.0.36,>=1.4->langchain_community)\n",
      "  Downloading greenlet-3.1.1-cp312-cp312-manylinux_2_24_x86_64.manylinux_2_28_x86_64.whl.metadata (3.8 kB)\n",
      "Collecting networkx (from torch>=1.11.0->sentence-transformers)\n",
      "  Using cached networkx-3.4.2-py3-none-any.whl.metadata (6.3 kB)\n",
      "Requirement already satisfied: jinja2 in ./.venv/lib/python3.12/site-packages (from torch>=1.11.0->sentence-transformers) (3.1.4)\n",
      "Collecting nvidia-cuda-nvrtc-cu12==12.4.127 (from torch>=1.11.0->sentence-transformers)\n",
      "  Using cached nvidia_cuda_nvrtc_cu12-12.4.127-py3-none-manylinux2014_x86_64.whl.metadata (1.5 kB)\n",
      "Collecting nvidia-cuda-runtime-cu12==12.4.127 (from torch>=1.11.0->sentence-transformers)\n",
      "  Using cached nvidia_cuda_runtime_cu12-12.4.127-py3-none-manylinux2014_x86_64.whl.metadata (1.5 kB)\n",
      "Collecting nvidia-cuda-cupti-cu12==12.4.127 (from torch>=1.11.0->sentence-transformers)\n",
      "  Using cached nvidia_cuda_cupti_cu12-12.4.127-py3-none-manylinux2014_x86_64.whl.metadata (1.6 kB)\n",
      "Collecting nvidia-cudnn-cu12==9.1.0.70 (from torch>=1.11.0->sentence-transformers)\n",
      "  Using cached nvidia_cudnn_cu12-9.1.0.70-py3-none-manylinux2014_x86_64.whl.metadata (1.6 kB)\n",
      "Collecting nvidia-cublas-cu12==12.4.5.8 (from torch>=1.11.0->sentence-transformers)\n",
      "  Using cached nvidia_cublas_cu12-12.4.5.8-py3-none-manylinux2014_x86_64.whl.metadata (1.5 kB)\n",
      "Collecting nvidia-cufft-cu12==11.2.1.3 (from torch>=1.11.0->sentence-transformers)\n",
      "  Using cached nvidia_cufft_cu12-11.2.1.3-py3-none-manylinux2014_x86_64.whl.metadata (1.5 kB)\n",
      "Collecting nvidia-curand-cu12==10.3.5.147 (from torch>=1.11.0->sentence-transformers)\n",
      "  Using cached nvidia_curand_cu12-10.3.5.147-py3-none-manylinux2014_x86_64.whl.metadata (1.5 kB)\n",
      "Collecting nvidia-cusolver-cu12==11.6.1.9 (from torch>=1.11.0->sentence-transformers)\n",
      "  Using cached nvidia_cusolver_cu12-11.6.1.9-py3-none-manylinux2014_x86_64.whl.metadata (1.6 kB)\n",
      "Collecting nvidia-cusparse-cu12==12.3.1.170 (from torch>=1.11.0->sentence-transformers)\n",
      "  Using cached nvidia_cusparse_cu12-12.3.1.170-py3-none-manylinux2014_x86_64.whl.metadata (1.6 kB)\n",
      "Collecting nvidia-nccl-cu12==2.21.5 (from torch>=1.11.0->sentence-transformers)\n",
      "  Using cached nvidia_nccl_cu12-2.21.5-py3-none-manylinux2014_x86_64.whl.metadata (1.8 kB)\n",
      "Collecting nvidia-nvtx-cu12==12.4.127 (from torch>=1.11.0->sentence-transformers)\n",
      "  Using cached nvidia_nvtx_cu12-12.4.127-py3-none-manylinux2014_x86_64.whl.metadata (1.7 kB)\n",
      "Collecting nvidia-nvjitlink-cu12==12.4.127 (from torch>=1.11.0->sentence-transformers)\n",
      "  Using cached nvidia_nvjitlink_cu12-12.4.127-py3-none-manylinux2014_x86_64.whl.metadata (1.5 kB)\n",
      "Collecting triton==3.1.0 (from torch>=1.11.0->sentence-transformers)\n",
      "  Downloading triton-3.1.0-cp312-cp312-manylinux_2_17_x86_64.manylinux2014_x86_64.whl.metadata (1.3 kB)\n",
      "Requirement already satisfied: setuptools in ./.venv/lib/python3.12/site-packages (from torch>=1.11.0->sentence-transformers) (75.3.0)\n",
      "Collecting sympy==1.13.1 (from torch>=1.11.0->sentence-transformers)\n",
      "  Using cached sympy-1.13.1-py3-none-any.whl.metadata (12 kB)\n",
      "Collecting mpmath<1.4,>=1.1.0 (from sympy==1.13.1->torch>=1.11.0->sentence-transformers)\n",
      "  Using cached mpmath-1.3.0-py3-none-any.whl.metadata (8.6 kB)\n",
      "Collecting regex!=2019.12.17 (from transformers<5.0.0,>=4.41.0->sentence-transformers)\n",
      "  Downloading regex-2024.11.6-cp312-cp312-manylinux_2_17_x86_64.manylinux2014_x86_64.whl.metadata (40 kB)\n",
      "\u001b[2K     \u001b[38;2;114;156;31m━━━━━━━━━━━━━━━━━━━━━━━━━━━━━━━━━━━━━━━━\u001b[0m \u001b[32m40.5/40.5 kB\u001b[0m \u001b[31m3.1 MB/s\u001b[0m eta \u001b[36m0:00:00\u001b[0m\n",
      "\u001b[?25hCollecting safetensors>=0.4.1 (from transformers<5.0.0,>=4.41.0->sentence-transformers)\n",
      "  Downloading safetensors-0.4.5-cp312-cp312-manylinux_2_17_x86_64.manylinux2014_x86_64.whl.metadata (3.8 kB)\n",
      "Collecting mypy-extensions>=0.3.0 (from typing-inspect<0.10.0,>=0.9.0->mistralai)\n",
      "  Using cached mypy_extensions-1.0.0-py3-none-any.whl.metadata (1.1 kB)\n",
      "Collecting joblib>=1.2.0 (from scikit-learn->sentence-transformers)\n",
      "  Using cached joblib-1.4.2-py3-none-any.whl.metadata (5.4 kB)\n",
      "Collecting threadpoolctl>=3.1.0 (from scikit-learn->sentence-transformers)\n",
      "  Using cached threadpoolctl-3.5.0-py3-none-any.whl.metadata (13 kB)\n",
      "Requirement already satisfied: jsonpointer>=1.9 in ./.venv/lib/python3.12/site-packages (from jsonpatch<2.0,>=1.33->langchain-core<0.4.0,>=0.3.15->langchain_mistralai) (3.0.0)\n",
      "Collecting propcache>=0.2.0 (from yarl<2.0,>=1.12.0->aiohttp<4.0.0,>=3.8.3->langchain_community)\n",
      "  Downloading propcache-0.2.0-cp312-cp312-manylinux_2_17_x86_64.manylinux2014_x86_64.whl.metadata (7.7 kB)\n",
      "Requirement already satisfied: MarkupSafe>=2.0 in ./.venv/lib/python3.12/site-packages (from jinja2->torch>=1.11.0->sentence-transformers) (3.0.2)\n",
      "Downloading ijson-3.3.0-cp312-cp312-manylinux_2_17_x86_64.manylinux2014_x86_64.whl (126 kB)\n",
      "\u001b[2K   \u001b[38;2;114;156;31m━━━━━━━━━━━━━━━━━━━━━━━━━━━━━━━━━━━━━━━━\u001b[0m \u001b[32m126.3/126.3 kB\u001b[0m \u001b[31m15.2 MB/s\u001b[0m eta \u001b[36m0:00:00\u001b[0m\n",
      "\u001b[?25hUsing cached langchain_mistralai-0.2.1-py3-none-any.whl (14 kB)\n",
      "Using cached langchain_community-0.3.5-py3-none-any.whl (2.4 MB)\n",
      "Downloading faiss_cpu-1.9.0-cp312-cp312-manylinux_2_17_x86_64.manylinux2014_x86_64.whl (27.5 MB)\n",
      "\u001b[2K   \u001b[38;2;114;156;31m━━━━━━━━━━━━━━━━━━━━━━━━━━━━━━━━━━━━━━━━\u001b[0m \u001b[32m27.5/27.5 MB\u001b[0m \u001b[31m87.8 MB/s\u001b[0m eta \u001b[36m0:00:00\u001b[0m0m eta \u001b[36m0:00:01\u001b[0m0:01\u001b[0m:01\u001b[0m\n",
      "\u001b[?25hUsing cached langchain_text_splitters-0.3.2-py3-none-any.whl (25 kB)\n",
      "Using cached sentence_transformers-3.2.1-py3-none-any.whl (255 kB)\n",
      "Downloading mistralai-1.2.1-py3-none-any.whl (254 kB)\n",
      "\u001b[2K   \u001b[38;2;114;156;31m━━━━━━━━━━━━━━━━━━━━━━━━━━━━━━━━━━━━━━━━\u001b[0m \u001b[32m254.6/254.6 kB\u001b[0m \u001b[31m64.0 MB/s\u001b[0m eta \u001b[36m0:00:00\u001b[0m\n",
      "\u001b[?25hUsing cached python_dateutil-2.8.2-py2.py3-none-any.whl (247 kB)\n",
      "Downloading aiohttp-3.10.10-cp312-cp312-manylinux_2_17_x86_64.manylinux2014_x86_64.whl (1.3 MB)\n",
      "\u001b[2K   \u001b[38;2;114;156;31m━━━━━━━━━━━━━━━━━━━━━━━━━━━━━━━━━━━━━━━━\u001b[0m \u001b[32m1.3/1.3 MB\u001b[0m \u001b[31m99.4 MB/s\u001b[0m eta \u001b[36m0:00:00\u001b[0m\n",
      "\u001b[?25hUsing cached dataclasses_json-0.6.7-py3-none-any.whl (28 kB)\n",
      "Using cached eval_type_backport-0.2.0-py3-none-any.whl (5.9 kB)\n",
      "Using cached httpx_sse-0.4.0-py3-none-any.whl (7.8 kB)\n",
      "Using cached huggingface_hub-0.26.2-py3-none-any.whl (447 kB)\n",
      "Using cached jsonpath_python-1.0.6-py3-none-any.whl (7.6 kB)\n",
      "Using cached langchain-0.3.7-py3-none-any.whl (1.0 MB)\n",
      "Using cached langchain_core-0.3.15-py3-none-any.whl (408 kB)\n",
      "Downloading langsmith-0.1.142-py3-none-any.whl (306 kB)\n",
      "\u001b[2K   \u001b[38;2;114;156;31m━━━━━━━━━━━━━━━━━━━━━━━━━━━━━━━━━━━━━━━━\u001b[0m \u001b[32m306.7/306.7 kB\u001b[0m \u001b[31m84.5 MB/s\u001b[0m eta \u001b[36m0:00:00\u001b[0m\n",
      "\u001b[?25hDownloading numpy-1.26.4-cp312-cp312-manylinux_2_17_x86_64.manylinux2014_x86_64.whl (18.0 MB)\n",
      "\u001b[2K   \u001b[38;2;114;156;31m━━━━━━━━━━━━━━━━━━━━━━━━━━━━━━━━━━━━━━━━\u001b[0m \u001b[32m18.0/18.0 MB\u001b[0m \u001b[31m57.7 MB/s\u001b[0m eta \u001b[36m0:00:00\u001b[0mm eta \u001b[36m0:00:01\u001b[0m00:01\u001b[0m:01\u001b[0m\n",
      "\u001b[?25hUsing cached pydantic-2.9.2-py3-none-any.whl (434 kB)\n",
      "Downloading pydantic_core-2.23.4-cp312-cp312-manylinux_2_17_x86_64.manylinux2014_x86_64.whl (2.1 MB)\n",
      "\u001b[2K   \u001b[38;2;114;156;31m━━━━━━━━━━━━━━━━━━━━━━━━━━━━━━━━━━━━━━━━\u001b[0m \u001b[32m2.1/2.1 MB\u001b[0m \u001b[31m102.7 MB/s\u001b[0m eta \u001b[36m0:00:00\u001b[0m\n",
      "\u001b[?25hUsing cached pydantic_settings-2.6.1-py3-none-any.whl (28 kB)\n",
      "Downloading SQLAlchemy-2.0.35-cp312-cp312-manylinux_2_17_x86_64.manylinux2014_x86_64.whl (3.2 MB)\n",
      "\u001b[2K   \u001b[38;2;114;156;31m━━━━━━━━━━━━━━━━━━━━━━━━━━━━━━━━━━━━━━━━\u001b[0m \u001b[32m3.2/3.2 MB\u001b[0m \u001b[31m92.2 MB/s\u001b[0m eta \u001b[36m0:00:00\u001b[0m0m eta \u001b[36m0:00:01\u001b[0m\n",
      "\u001b[?25hUsing cached tenacity-9.0.0-py3-none-any.whl (28 kB)\n",
      "Downloading tokenizers-0.20.3-cp312-cp312-manylinux_2_17_x86_64.manylinux2014_x86_64.whl (3.0 MB)\n",
      "\u001b[2K   \u001b[38;2;114;156;31m━━━━━━━━━━━━━━━━━━━━━━━━━━━━━━━━━━━━━━━━\u001b[0m \u001b[32m3.0/3.0 MB\u001b[0m \u001b[31m77.6 MB/s\u001b[0m eta \u001b[36m0:00:00\u001b[0mm eta \u001b[36m0:00:01\u001b[0m\n",
      "\u001b[?25hDownloading torch-2.5.1-cp312-cp312-manylinux1_x86_64.whl (906.4 MB)\n",
      "\u001b[2K   \u001b[38;2;114;156;31m━━━━━━━━━━━━━━━━━━━━━━━━━━━━━━━━━━━━━━━━\u001b[0m \u001b[32m906.4/906.4 MB\u001b[0m \u001b[31m9.5 MB/s\u001b[0m eta \u001b[36m0:00:00\u001b[0m0m eta \u001b[36m0:00:01\u001b[0m[36m0:00:01\u001b[0m\n",
      "\u001b[?25hUsing cached nvidia_cublas_cu12-12.4.5.8-py3-none-manylinux2014_x86_64.whl (363.4 MB)\n",
      "Using cached nvidia_cuda_cupti_cu12-12.4.127-py3-none-manylinux2014_x86_64.whl (13.8 MB)\n",
      "Using cached nvidia_cuda_nvrtc_cu12-12.4.127-py3-none-manylinux2014_x86_64.whl (24.6 MB)\n",
      "Using cached nvidia_cuda_runtime_cu12-12.4.127-py3-none-manylinux2014_x86_64.whl (883 kB)\n",
      "Using cached nvidia_cudnn_cu12-9.1.0.70-py3-none-manylinux2014_x86_64.whl (664.8 MB)\n",
      "Using cached nvidia_cufft_cu12-11.2.1.3-py3-none-manylinux2014_x86_64.whl (211.5 MB)\n",
      "Using cached nvidia_curand_cu12-10.3.5.147-py3-none-manylinux2014_x86_64.whl (56.3 MB)\n",
      "Using cached nvidia_cusolver_cu12-11.6.1.9-py3-none-manylinux2014_x86_64.whl (127.9 MB)\n",
      "Using cached nvidia_cusparse_cu12-12.3.1.170-py3-none-manylinux2014_x86_64.whl (207.5 MB)\n",
      "Using cached nvidia_nccl_cu12-2.21.5-py3-none-manylinux2014_x86_64.whl (188.7 MB)\n",
      "Using cached nvidia_nvjitlink_cu12-12.4.127-py3-none-manylinux2014_x86_64.whl (21.1 MB)\n",
      "Using cached nvidia_nvtx_cu12-12.4.127-py3-none-manylinux2014_x86_64.whl (99 kB)\n",
      "Using cached sympy-1.13.1-py3-none-any.whl (6.2 MB)\n",
      "Downloading triton-3.1.0-cp312-cp312-manylinux_2_17_x86_64.manylinux2014_x86_64.whl (209.6 MB)\n",
      "\u001b[2K   \u001b[38;2;114;156;31m━━━━━━━━━━━━━━━━━━━━━━━━━━━━━━━━━━━━━━━━\u001b[0m \u001b[32m209.6/209.6 MB\u001b[0m \u001b[31m13.2 MB/s\u001b[0m eta \u001b[36m0:00:00\u001b[0mm eta \u001b[36m0:00:01\u001b[0m[36m0:00:01\u001b[0m\n",
      "\u001b[?25hDownloading tqdm-4.67.0-py3-none-any.whl (78 kB)\n",
      "\u001b[2K   \u001b[38;2;114;156;31m━━━━━━━━━━━━━━━━━━━━━━━━━━━━━━━━━━━━━━━━\u001b[0m \u001b[32m78.6/78.6 kB\u001b[0m \u001b[31m27.6 MB/s\u001b[0m eta \u001b[36m0:00:00\u001b[0m\n",
      "\u001b[?25hDownloading transformers-4.46.2-py3-none-any.whl (10.0 MB)\n",
      "\u001b[2K   \u001b[38;2;114;156;31m━━━━━━━━━━━━━━━━━━━━━━━━━━━━━━━━━━━━━━━━\u001b[0m \u001b[32m10.0/10.0 MB\u001b[0m \u001b[31m101.8 MB/s\u001b[0m eta \u001b[36m0:00:00\u001b[0mMB/s\u001b[0m eta \u001b[36m0:00:01\u001b[0m\n",
      "\u001b[?25hUsing cached typing_inspect-0.9.0-py3-none-any.whl (8.8 kB)\n",
      "Downloading pillow-11.0.0-cp312-cp312-manylinux_2_28_x86_64.whl (4.4 MB)\n",
      "\u001b[2K   \u001b[38;2;114;156;31m━━━━━━━━━━━━━━━━━━━━━━━━━━━━━━━━━━━━━━━━\u001b[0m \u001b[32m4.4/4.4 MB\u001b[0m \u001b[31m101.8 MB/s\u001b[0m eta \u001b[36m0:00:00\u001b[0m1m121.7 MB/s\u001b[0m eta \u001b[36m0:00:01\u001b[0m\n",
      "\u001b[?25hDownloading scikit_learn-1.5.2-cp312-cp312-manylinux_2_17_x86_64.manylinux2014_x86_64.whl (12.9 MB)\n",
      "\u001b[2K   \u001b[38;2;114;156;31m━━━━━━━━━━━━━━━━━━━━━━━━━━━━━━━━━━━━━━━━\u001b[0m \u001b[32m12.9/12.9 MB\u001b[0m \u001b[31m68.7 MB/s\u001b[0m eta \u001b[36m0:00:00\u001b[0m0m eta \u001b[36m0:00:01\u001b[0m0:01\u001b[0m01\u001b[0m\n",
      "\u001b[?25hDownloading scipy-1.14.1-cp312-cp312-manylinux_2_17_x86_64.manylinux2014_x86_64.whl (40.8 MB)\n",
      "\u001b[2K   \u001b[38;2;114;156;31m━━━━━━━━━━━━━━━━━━━━━━━━━━━━━━━━━━━━━━━━\u001b[0m \u001b[32m40.8/40.8 MB\u001b[0m \u001b[31m35.8 MB/s\u001b[0m eta \u001b[36m0:00:00\u001b[0m0m eta \u001b[36m0:00:01\u001b[0m0:01\u001b[0m:01\u001b[0m\n",
      "\u001b[?25hUsing cached aiohappyeyeballs-2.4.3-py3-none-any.whl (14 kB)\n",
      "Using cached aiosignal-1.3.1-py3-none-any.whl (7.6 kB)\n",
      "Using cached annotated_types-0.7.0-py3-none-any.whl (13 kB)\n",
      "Downloading frozenlist-1.5.0-cp312-cp312-manylinux_2_5_x86_64.manylinux1_x86_64.manylinux_2_17_x86_64.manylinux2014_x86_64.whl (283 kB)\n",
      "\u001b[2K   \u001b[38;2;114;156;31m━━━━━━━━━━━━━━━━━━━━━━━━━━━━━━━━━━━━━━━━\u001b[0m \u001b[32m283.6/283.6 kB\u001b[0m \u001b[31m57.8 MB/s\u001b[0m eta \u001b[36m0:00:00\u001b[0m\n",
      "\u001b[?25hUsing cached fsspec-2024.10.0-py3-none-any.whl (179 kB)\n",
      "Downloading greenlet-3.1.1-cp312-cp312-manylinux_2_24_x86_64.manylinux_2_28_x86_64.whl (613 kB)\n",
      "\u001b[2K   \u001b[38;2;114;156;31m━━━━━━━━━━━━━━━━━━━━━━━━━━━━━━━━━━━━━━━━\u001b[0m \u001b[32m613.1/613.1 kB\u001b[0m \u001b[31m44.9 MB/s\u001b[0m eta \u001b[36m0:00:00\u001b[0m\n",
      "\u001b[?25hUsing cached joblib-1.4.2-py3-none-any.whl (301 kB)\n",
      "Using cached jsonpatch-1.33-py2.py3-none-any.whl (12 kB)\n",
      "Using cached marshmallow-3.23.1-py3-none-any.whl (49 kB)\n",
      "Downloading multidict-6.1.0-cp312-cp312-manylinux_2_17_x86_64.manylinux2014_x86_64.whl (131 kB)\n",
      "\u001b[2K   \u001b[38;2;114;156;31m━━━━━━━━━━━━━━━━━━━━━━━━━━━━━━━━━━━━━━━━\u001b[0m \u001b[32m131.0/131.0 kB\u001b[0m \u001b[31m47.5 MB/s\u001b[0m eta \u001b[36m0:00:00\u001b[0m\n",
      "\u001b[?25hUsing cached mypy_extensions-1.0.0-py3-none-any.whl (4.7 kB)\n",
      "Downloading orjson-3.10.11-cp312-cp312-manylinux_2_17_x86_64.manylinux2014_x86_64.whl (142 kB)\n",
      "\u001b[2K   \u001b[38;2;114;156;31m━━━━━━━━━━━━━━━━━━━━━━━━━━━━━━━━━━━━━━━━\u001b[0m \u001b[32m142.8/142.8 kB\u001b[0m \u001b[31m18.9 MB/s\u001b[0m eta \u001b[36m0:00:00\u001b[0m\n",
      "\u001b[?25hUsing cached python_dotenv-1.0.1-py3-none-any.whl (19 kB)\n",
      "Downloading regex-2024.11.6-cp312-cp312-manylinux_2_17_x86_64.manylinux2014_x86_64.whl (796 kB)\n",
      "\u001b[2K   \u001b[38;2;114;156;31m━━━━━━━━━━━━━━━━━━━━━━━━━━━━━━━━━━━━━━━━\u001b[0m \u001b[32m796.9/796.9 kB\u001b[0m \u001b[31m9.3 MB/s\u001b[0m eta \u001b[36m0:00:00\u001b[0m[31m9.0 MB/s\u001b[0m eta \u001b[36m0:00:01\u001b[0m\n",
      "\u001b[?25hUsing cached requests_toolbelt-1.0.0-py2.py3-none-any.whl (54 kB)\n",
      "Downloading safetensors-0.4.5-cp312-cp312-manylinux_2_17_x86_64.manylinux2014_x86_64.whl (434 kB)\n",
      "\u001b[2K   \u001b[38;2;114;156;31m━━━━━━━━━━━━━━━━━━━━━━━━━━━━━━━━━━━━━━━━\u001b[0m \u001b[32m434.8/434.8 kB\u001b[0m \u001b[31m95.1 MB/s\u001b[0m eta \u001b[36m0:00:00\u001b[0m\n",
      "\u001b[?25hUsing cached threadpoolctl-3.5.0-py3-none-any.whl (18 kB)\n",
      "Using cached typing_extensions-4.12.2-py3-none-any.whl (37 kB)\n",
      "Downloading yarl-1.17.1-cp312-cp312-manylinux_2_17_x86_64.manylinux2014_x86_64.whl (336 kB)\n",
      "\u001b[2K   \u001b[38;2;114;156;31m━━━━━━━━━━━━━━━━━━━━━━━━━━━━━━━━━━━━━━━━\u001b[0m \u001b[32m336.6/336.6 kB\u001b[0m \u001b[31m33.4 MB/s\u001b[0m eta \u001b[36m0:00:00\u001b[0m\n",
      "\u001b[?25hUsing cached filelock-3.16.1-py3-none-any.whl (16 kB)\n",
      "Using cached networkx-3.4.2-py3-none-any.whl (1.7 MB)\n",
      "Using cached mpmath-1.3.0-py3-none-any.whl (536 kB)\n",
      "Downloading propcache-0.2.0-cp312-cp312-manylinux_2_17_x86_64.manylinux2014_x86_64.whl (248 kB)\n",
      "\u001b[2K   \u001b[38;2;114;156;31m━━━━━━━━━━━━━━━━━━━━━━━━━━━━━━━━━━━━━━━━\u001b[0m \u001b[32m248.2/248.2 kB\u001b[0m \u001b[31m72.7 MB/s\u001b[0m eta \u001b[36m0:00:00\u001b[0m\n",
      "\u001b[?25hBuilding wheels for collected packages: spider-client\n",
      "  Building wheel for spider-client (pyproject.toml) ... \u001b[?25ldone\n",
      "\u001b[?25h  Created wheel for spider-client: filename=spider_client-0.1.23-py3-none-any.whl size=12904 sha256=6a2fe137b1e77147d25e0a7515cd97972a48a2dc9b1d02dc7a5955c93a4194ed\n",
      "  Stored in directory: /home/jmfrmg/.cache/pip/wheels/f1/ab/9d/af33791c78d9590a87fcc1b961a998a38a75884bbe26a1b7c4\n",
      "Successfully built spider-client\n",
      "Installing collected packages: mpmath, ijson, typing-extensions, tqdm, threadpoolctl, tenacity, sympy, safetensors, regex, python-dotenv, python-dateutil, propcache, Pillow, orjson, nvidia-nvtx-cu12, nvidia-nvjitlink-cu12, nvidia-nccl-cu12, nvidia-curand-cu12, nvidia-cufft-cu12, nvidia-cuda-runtime-cu12, nvidia-cuda-nvrtc-cu12, nvidia-cuda-cupti-cu12, nvidia-cublas-cu12, numpy, networkx, mypy-extensions, multidict, marshmallow, jsonpath-python, jsonpatch, joblib, httpx-sse, greenlet, fsspec, frozenlist, filelock, eval-type-backport, annotated-types, aiohappyeyeballs, yarl, typing-inspect, triton, SQLAlchemy, spider-client, scipy, requests-toolbelt, pydantic-core, nvidia-cusparse-cu12, nvidia-cudnn-cu12, huggingface-hub, faiss-cpu, aiosignal, tokenizers, scikit-learn, pydantic, nvidia-cusolver-cu12, dataclasses-json, aiohttp, transformers, torch, pydantic-settings, mistralai, langsmith, sentence-transformers, langchain-core, langchain-text-splitters, langchain_mistralai, langchain, langchain_community\n",
      "  Attempting uninstall: python-dateutil\n",
      "    Found existing installation: python-dateutil 2.9.0.post0\n",
      "    Uninstalling python-dateutil-2.9.0.post0:\n",
      "      Successfully uninstalled python-dateutil-2.9.0.post0\n",
      "Successfully installed Pillow-11.0.0 SQLAlchemy-2.0.35 aiohappyeyeballs-2.4.3 aiohttp-3.10.10 aiosignal-1.3.1 annotated-types-0.7.0 dataclasses-json-0.6.7 eval-type-backport-0.2.0 faiss-cpu-1.9.0 filelock-3.16.1 frozenlist-1.5.0 fsspec-2024.10.0 greenlet-3.1.1 httpx-sse-0.4.0 huggingface-hub-0.26.2 ijson-3.3.0 joblib-1.4.2 jsonpatch-1.33 jsonpath-python-1.0.6 langchain-0.3.7 langchain-core-0.3.15 langchain-text-splitters-0.3.2 langchain_community-0.3.5 langchain_mistralai-0.2.1 langsmith-0.1.142 marshmallow-3.23.1 mistralai-1.2.1 mpmath-1.3.0 multidict-6.1.0 mypy-extensions-1.0.0 networkx-3.4.2 numpy-1.26.4 nvidia-cublas-cu12-12.4.5.8 nvidia-cuda-cupti-cu12-12.4.127 nvidia-cuda-nvrtc-cu12-12.4.127 nvidia-cuda-runtime-cu12-12.4.127 nvidia-cudnn-cu12-9.1.0.70 nvidia-cufft-cu12-11.2.1.3 nvidia-curand-cu12-10.3.5.147 nvidia-cusolver-cu12-11.6.1.9 nvidia-cusparse-cu12-12.3.1.170 nvidia-nccl-cu12-2.21.5 nvidia-nvjitlink-cu12-12.4.127 nvidia-nvtx-cu12-12.4.127 orjson-3.10.11 propcache-0.2.0 pydantic-2.9.2 pydantic-core-2.23.4 pydantic-settings-2.6.1 python-dateutil-2.8.2 python-dotenv-1.0.1 regex-2024.11.6 requests-toolbelt-1.0.0 safetensors-0.4.5 scikit-learn-1.5.2 scipy-1.14.1 sentence-transformers-3.2.1 spider-client-0.1.23 sympy-1.13.1 tenacity-9.0.0 threadpoolctl-3.5.0 tokenizers-0.20.3 torch-2.5.1 tqdm-4.67.0 transformers-4.46.2 triton-3.1.0 typing-extensions-4.12.2 typing-inspect-0.9.0 yarl-1.17.1\n",
      "\n",
      "\u001b[1m[\u001b[0m\u001b[34;49mnotice\u001b[0m\u001b[1;39;49m]\u001b[0m\u001b[39;49m A new release of pip is available: \u001b[0m\u001b[31;49m24.0\u001b[0m\u001b[39;49m -> \u001b[0m\u001b[32;49m24.3.1\u001b[0m\n",
      "\u001b[1m[\u001b[0m\u001b[34;49mnotice\u001b[0m\u001b[1;39;49m]\u001b[0m\u001b[39;49m To update, run: \u001b[0m\u001b[32;49mpip install --upgrade pip\u001b[0m\n"
     ]
    }
   ],
   "source": [
    "!pip install ijson spider-client langchain_mistralai langchain_community beautifulsoup4 faiss-cpu langchain-text-splitters sentence-transformers mistralai"
   ]
  },
  {
   "cell_type": "code",
   "execution_count": null,
   "id": "f0ed1f43-6b58-485c-96e3-74ceb5316d1f",
   "metadata": {},
   "outputs": [],
   "source": []
  },
  {
   "cell_type": "markdown",
   "id": "f62c1aa9-739c-49ff-a827-1d13157c7aa3",
   "metadata": {},
   "source": [
    "## Les imports"
   ]
  },
  {
   "cell_type": "code",
   "execution_count": 3,
   "id": "861dd79d-5a58-4669-a1fa-ae55e73a4f12",
   "metadata": {},
   "outputs": [],
   "source": [
    "import os\n",
    "import pickle\n",
    "from pprint import pprint"
   ]
  },
  {
   "cell_type": "code",
   "execution_count": null,
   "id": "6ba7f458-a251-4f76-b011-bd2b45e86c46",
   "metadata": {},
   "outputs": [],
   "source": []
  },
  {
   "cell_type": "markdown",
   "id": "c6eaf1bb-d77e-4032-bf29-2c61d43d4b9a",
   "metadata": {},
   "source": [
    "## Chargement des variables d'environnement"
   ]
  },
  {
   "cell_type": "code",
   "execution_count": 4,
   "id": "f4ce4d49-9efb-4f09-b740-533969d27fdd",
   "metadata": {},
   "outputs": [],
   "source": [
    "from dotenv import load_dotenv"
   ]
  },
  {
   "cell_type": "code",
   "execution_count": 5,
   "id": "1f6f17db-f8af-442b-a1b8-0a51d3f7093f",
   "metadata": {},
   "outputs": [
    {
     "data": {
      "text/plain": [
       "True"
      ]
     },
     "execution_count": 5,
     "metadata": {},
     "output_type": "execute_result"
    }
   ],
   "source": [
    "load_dotenv()"
   ]
  },
  {
   "cell_type": "code",
   "execution_count": 9,
   "id": "a77b459d-367d-4313-a87a-4356d15d1d13",
   "metadata": {},
   "outputs": [],
   "source": [
    "MISTRAL_API_KEY = os.getenv(\"MISTRAL_API_KEY\")\n",
    "#SPIDER_API_KEY = os.getenv(\"SPIDER_API_KEY\")"
   ]
  },
  {
   "cell_type": "code",
   "execution_count": null,
   "id": "f040a7d6-313a-4d96-a8ea-0e324292767f",
   "metadata": {},
   "outputs": [],
   "source": []
  },
  {
   "cell_type": "code",
   "execution_count": null,
   "id": "db99ee89-41be-4c2f-8d80-a8b207fceee0",
   "metadata": {},
   "outputs": [],
   "source": []
  },
  {
   "cell_type": "markdown",
   "id": "89ef2eab-b077-43f8-9ca1-28b7e99b6541",
   "metadata": {},
   "source": [
    "## Les données"
   ]
  },
  {
   "cell_type": "markdown",
   "id": "28a0c0a8-1b94-4575-a53a-82a0bf43fc64",
   "metadata": {},
   "source": [
    "### Scraping"
   ]
  },
  {
   "cell_type": "code",
   "execution_count": 7,
   "id": "ccf32feb-3f84-4063-adff-e862b0007742",
   "metadata": {},
   "outputs": [],
   "source": [
    "#from langchain_community.document_loaders import SpiderLoader"
   ]
  },
  {
   "cell_type": "code",
   "execution_count": 13,
   "id": "d7c6b88c-3175-4c19-b639-218634086bca",
   "metadata": {},
   "outputs": [
    {
     "data": {
      "text/plain": [
       "'\\nloader = SpiderLoader(\\n    api_key=SPIDER_API_KEY,\\n    url=\"https://fabeon.fr/\",\\n    mode=\"crawl\",  # if no API key is provided it looks for SPIDER_API_KEY in env\\n)\\ndata = loader.load()\\n'"
      ]
     },
     "execution_count": 13,
     "metadata": {},
     "output_type": "execute_result"
    }
   ],
   "source": [
    "\"\"\"\n",
    "loader = SpiderLoader(\n",
    "    api_key=SPIDER_API_KEY,\n",
    "    url=\"https://fabeon.fr/\",\n",
    "    mode=\"crawl\",  # if no API key is provided it looks for SPIDER_API_KEY in env\n",
    ")\n",
    "data = loader.load()\n",
    "\"\"\""
   ]
  },
  {
   "cell_type": "code",
   "execution_count": null,
   "id": "cb0cd036-cfa2-4ce7-aa77-96e4b76c2dfb",
   "metadata": {},
   "outputs": [],
   "source": []
  },
  {
   "cell_type": "code",
   "execution_count": 14,
   "id": "791728d8-b685-4e5e-8166-d5ca7f3ef939",
   "metadata": {},
   "outputs": [],
   "source": [
    "#with open(\"fabeon.pkl\", \"wb\") as f:\n",
    "#    pickle.dump(data, f)"
   ]
  },
  {
   "cell_type": "code",
   "execution_count": 15,
   "id": "5fbe330a-5165-4f9a-b278-7a10efcbcac1",
   "metadata": {},
   "outputs": [],
   "source": [
    "with open(\"fabeon.pkl\", \"rb\") as f:  # open a text file\n",
    "    data = pickle.load(f)"
   ]
  },
  {
   "cell_type": "code",
   "execution_count": 16,
   "id": "904ab73d-84e5-424b-b21e-d70d26987f3f",
   "metadata": {},
   "outputs": [
    {
     "data": {
      "text/plain": [
       "54"
      ]
     },
     "execution_count": 16,
     "metadata": {},
     "output_type": "execute_result"
    }
   ],
   "source": [
    "len(data)"
   ]
  },
  {
   "cell_type": "code",
   "execution_count": 17,
   "id": "5897a4fb-d924-47d0-b0be-8ffc4a7504ae",
   "metadata": {
    "scrolled": true
   },
   "outputs": [
    {
     "name": "stdout",
     "output_type": "stream",
     "text": [
      "{'id': None,\n",
      " 'metadata': {'description': \"Lever les freins par l'innovation pour former \"\n",
      "                             'aux métiers de demain dans le domaine de '\n",
      "                             'l’imprimerie numérique',\n",
      "              'domain': 'fabeon.fr',\n",
      "              'extracted_data': None,\n",
      "              'file_size': 7659,\n",
      "              'keywords': ['17h30 à 18h15 Mercredi 20 novembre',\n",
      "                           '17h30 à 18h15 Mercredi 4 décembre',\n",
      "                           '2024 Nombres de stagiaires',\n",
      "                           '80 rue Tobias Stimmer 67400 Illkirch-Graffenstaden',\n",
      "                           '> La SMART FACTORY',\n",
      "                           '> Le CAMPUS',\n",
      "                           'Aller au contenu',\n",
      "                           'Ateliers découverte Créez',\n",
      "                           'Bachelor Digital Printing',\n",
      "                           'Cliquez ci-dessous pour visualiser notre '\n",
      "                           'certificat Qualiopi',\n",
      "                           'Copyright © 2024 Fabéon -',\n",
      "                           'Créez votre projet sur Canva',\n",
      "                           'En savoir +',\n",
      "                           'Entraînez-vous sur des cas',\n",
      "                           'Expérimenter en accompagnant les startups '\n",
      "                           'innovantes dans les domaines de',\n",
      "                           'Fabéon met en place 3 structures',\n",
      "                           'Formation des salariés',\n",
      "                           'Formation développeur en intelligence artificielle',\n",
      "                           'Formation intensive impression 3D',\n",
      "                           'Initiez-vous aux différentes IA',\n",
      "                           'Intelligence Artificielle à sa portée',\n",
      "                           'Les candidatures pour',\n",
      "                           'Les dates de nos prochains ateliers découverte '\n",
      "                           'Mercredi 6 novembre',\n",
      "                           'Les dernières nouvelles',\n",
      "                           'Lire la suite',\n",
      "                           'Logo de Fabéon',\n",
      "                           'Offrir aux apprenants une proposition de formation '\n",
      "                           'à la fois unique',\n",
      "                           'Parcours de notre 1er atelier',\n",
      "                           'Parcours de notre 2ème atelier',\n",
      "                           'Parcours de notre 3ème atelier',\n",
      "                           'Permutateur de Menu',\n",
      "                           'Pour répondre aux besoins de nouvelles compétences',\n",
      "                           'Quelques chiffres sur',\n",
      "                           'Responsable de formation',\n",
      "                           'Taux de réussite',\n",
      "                           'Taux de satisfactions',\n",
      "                           'Technicien en impression 3D',\n",
      "                           'Transformer en mutualisant les outils industriels',\n",
      "                           'année 2023-2024 sont ouvertes',\n",
      "                           'de chiffres',\n",
      "                           'expert recherché par les acteurs majeurs de',\n",
      "                           'imprimez-le dans notre smartfactory',\n",
      "                           'industrie graphique française',\n",
      "                           'innovez avec Fabéon Les Mercredis de Novembre en '\n",
      "                           'distanciel',\n",
      "                           'les compétences diverses de',\n",
      "                           'mercredi 7 Juin 2023 > 9h00',\n",
      "                           'partagez votre fichier',\n",
      "                           'sur place',\n",
      "                           'sur place à Fabéon',\n",
      "                           'À la une',\n",
      "                           'Événements à Fabéon',\n",
      "                           'écosystème pour accompagner la transformation de'],\n",
      "              'pathname': '/',\n",
      "              'resource_type': '.md',\n",
      "              'title': 'Fabéon, écosystème pour accompagner la transformation '\n",
      "                       'de l’impression numérique',\n",
      "              'url': 'e25d7992-326e-4eab-a54f-5dbf2dc28020/fabeon.fr/_fr/12638123428881205758.md',\n",
      "              'user_id': 'e25d7992-326e-4eab-a54f-5dbf2dc28020'},\n",
      " 'page_content': 'Fabéon, écosystème pour accompagner la transformation de '\n",
      "                 'l’impression numérique[Aller au contenu](#content)\\n'\n",
      "                 \"[![Fabéon](data:image/svg+xml,%3Csvg%20xmlns='http://www.w3.org/2000/svg'%20viewBox='0%200%20216%20107'%3E%3C/svg%3E)](https://fabeon.fr/)\\n\"\n",
      "                 '* '\n",
      "                 '[Campus](https://fabeon.fr/campus-impression-numerique/)Permutateur '\n",
      "                 'de Menu\\n'\n",
      "                 ' * [Formation développeur en intelligence '\n",
      "                 'artificielle](https://fabeon.fr/campus-impression-numerique/formation-intensive-developpeur-en-intelligence-artificielle/)\\n'\n",
      "                 ' * [Formation intensive impression '\n",
      "                 '3D](https://fabeon.fr/campus-impression-numerique/formation-intensive-impression-3d/)\\n'\n",
      "                 ' * [Technicien en impression '\n",
      "                 '3D](https://fabeon.fr/campus-impression-numerique/technicien-en-impression-3d/)\\n'\n",
      "                 ' * [Bachelor Digital '\n",
      "                 'Printing](https://fabeon.fr/campus-impression-numerique/bachelor-digital-printing/)\\n'\n",
      "                 ' * [Formation des '\n",
      "                 'salariés](https://fabeon.fr/campus-impression-numerique/formation-continue/)\\n'\n",
      "                 ' * [Formulaire '\n",
      "                 'candidature](https://fabeon.fr/campus-impression-numerique/dossier-candidature-campus/)\\n'\n",
      "                 '* [Studio Fabéon](https://fabeon.fr/incubateur-startup/)\\n'\n",
      "                 '* '\n",
      "                 '[Smartfactory](https://fabeon.fr/micro-factory-fablab-impression/)\\n'\n",
      "                 '* [À la une](https://fabeon.fr/actualites/)\\n'\n",
      "                 '* [Contact](https://fabeon.fr/contact/)\\n'\n",
      "                 '[Je candidate](https://fabeon.framer.ai/)\\n'\n",
      "                 '[Je candidate](https://fabeon.framer.ai/)\\n'\n",
      "                 \"[![Fabéon](data:image/svg+xml,%3Csvg%20xmlns='http://www.w3.org/2000/svg'%20viewBox='0%200%20216%20107'%3E%3C/svg%3E)](https://fabeon.fr/)\\n\"\n",
      "                 'Main Menu\\n'\n",
      "                 \"![](data:image/svg+xml,%3Csvg%20xmlns='http://www.w3.org/2000/svg'%20viewBox='0%200%201024%20576'%3E%3C/svg%3E \"\n",
      "                 '\"\")\\n'\n",
      "                 '### Ateliers découverte\\n'\n",
      "                 'Créez, modélisez, innovez avec Fabéon\\n'\n",
      "                 'Les Mercredis de Novembre\\n'\n",
      "                 'en distanciel et sur place à Fabéon\\n'\n",
      "                 '[En savoir '\n",
      "                 '+](https://www.linkedin.com/feed/update/urn:li:activity:7252989312630226946)\\n'\n",
      "                 '### Les dates de nos prochains ateliers découverte\\n'\n",
      "                 'Mercredi 6 novembre (en visio) 17h30 à 18h15\\n'\n",
      "                 'Mercredi 20 novembre (en visio) 17h30 à 18h15\\n'\n",
      "                 'Mercredi 4 décembre (sur place) 17h30 à 18h15\\n'\n",
      "                 '[Lire la '\n",
      "                 'suite](https://www.linkedin.com/school/91674952/admin/page-posts/published/)\\n'\n",
      "                 '### Parcours de notre 1er atelier : le print\\n'\n",
      "                 '**. Créez votre projet sur Canva,**\\n'\n",
      "                 '**. partagez votre fichier,**\\n'\n",
      "                 '**. imprimez-le dans notre smartfactory**\\n'\n",
      "                 '[Lire la '\n",
      "                 'suite](https://www.eventbrite.com/e/1049455518707?aff=oddtdtcreator)\\n'\n",
      "                 '### Parcours de notre 2ème atelier : la 3D\\n'\n",
      "                 '.**Découvrez l’Intelligence Artificielle à sa portée**\\n'\n",
      "                 '**. Initiez-vous aux différentes IA\\\\* :****IA\\\\* '\n",
      "                 'générative, automatisation**\\n'\n",
      "                 '**. Entraînez-vous sur des cas d’usage**\\n'\n",
      "                 '[Lire la '\n",
      "                 'suite](https://www.eventbrite.com/e/1049464696157?aff=oddtdtcreator)\\n'\n",
      "                 '### Parcours de notre 3ème atelier : l’IA\\n'\n",
      "                 '**. Créez votre projet sur Canva,**\\n'\n",
      "                 '**. partagez votre fichier,**\\n'\n",
      "                 '**. imprimez-le dans notre smartfactory**\\n'\n",
      "                 '[Lire la '\n",
      "                 'suite](https://www.eventbrite.com/e/1049463863667?aff=oddtdtcreator)\\n'\n",
      "                 '### Événements à Fabéon\\n'\n",
      "                 '**Masterclass Heidelberg****leader mondiale**\\n'\n",
      "                 '**de l’industrie graphique**\\n'\n",
      "                 '**Le 10 Décembre 2024****à Fabéon**\\n'\n",
      "                 '[Lire la '\n",
      "                 'suite](https://docs.google.com/forms/d/e/1FAIpQLSd8BsyNiZW9uC9WOhBHgkhfjQ_eYCwNtw7B5RkmHJ1FpzcS9w/viewform)\\n'\n",
      "                 '**Pour répondre aux besoins de nouvelles compétences, Fabéon '\n",
      "                 'met en place 3 structures :**\\n'\n",
      "                 '[![Logo de '\n",
      "                 \"Fabéon](data:image/svg+xml,%3Csvg%20xmlns='http://www.w3.org/2000/svg'%20viewBox='0%200%201024%201024'%3E%3C/svg%3E)](https://fabeon.fr/campus-impression-numerique/)Offrir \"\n",
      "                 'aux apprenants une proposition de formation à la fois unique '\n",
      "                 'et collaboratif.\\n'\n",
      "                 '[\\\\> Le '\n",
      "                 'CAMPUS](https://fabeon.fr/campus-impression-numerique/)\\n'\n",
      "                 '[![Logo de '\n",
      "                 \"Fabéon](data:image/svg+xml,%3Csvg%20xmlns='http://www.w3.org/2000/svg'%20viewBox='0%200%201024%201024'%3E%3C/svg%3E)](https://fabeon.fr/incubateur-startup/)Expérimenter \"\n",
      "                 'en accompagnant les startups innovantes dans les domaines de '\n",
      "                 'l’impression.\\n'\n",
      "                 '[\\\\> L’INCUBATEUR](https://fabeon.fr/incubateur-startup/)\\n'\n",
      "                 '[![Logo de '\n",
      "                 \"Fabéon](data:image/svg+xml,%3Csvg%20xmlns='http://www.w3.org/2000/svg'%20viewBox='0%200%201024%201024'%3E%3C/svg%3E)](https://fabeon.fr/micro-factory-fablab-impression/)Transformer \"\n",
      "                 'en mutualisant les outils industriels et les compétences '\n",
      "                 'diverses de l’impression.\\n'\n",
      "                 '[\\\\> La SMART FACTORY](https://fabeon.fr/micro-factory/)\\n'\n",
      "                 '---\\n'\n",
      "                 '#### Quelques chiffres sur**l’industrie graphique '\n",
      "                 'française**(2020)\\n'\n",
      "                 '### **+de 52 000**\\n'\n",
      "                 '**salariés**\\n'\n",
      "                 '### **4 250**\\n'\n",
      "                 '**entreprises**\\n'\n",
      "                 '### **20 millards €**\\n'\n",
      "                 '**de chiffres d’affaires**\\n'\n",
      "                 '# *Devenez un expert recherché par les acteurs majeurs de '\n",
      "                 'l’impression numérique.*\\n'\n",
      "                 '##### **Frédéric Soulier**—*Responsable de formation*\\n'\n",
      "                 '#### Les dernières nouvelles\\n'\n",
      "                 '* ### [Fabéon au '\n",
      "                 'C!print](https://fabeon.fr/2024/01/31/fabeon-au-cprint/)\\n'\n",
      "                 '---\\n'\n",
      "                 ' [![Fabéon au '\n",
      "                 \"C!print](data:image/svg+xml,%3Csvg%20xmlns='http://www.w3.org/2000/svg'%20viewBox='0%200%20500%20500'%3E%3C/svg%3E)](https://fabeon.fr/2024/01/31/fabeon-au-cprint/)\\n\"\n",
      "                 '* ### [Masterclass – mercredi 7 Juin 2023 \\\\> '\n",
      "                 '9h00](https://fabeon.fr/2023/05/20/masterclass-7-juin-2023-9h00/)\\n'\n",
      "                 '---\\n'\n",
      "                 ' [![Masterclass – mercredi 7 Juin 2023 > '\n",
      "                 \"9h00](data:image/svg+xml,%3Csvg%20xmlns='http://www.w3.org/2000/svg'%20viewBox='0%200%202002%202001'%3E%3C/svg%3E)](https://fabeon.fr/2023/05/20/masterclass-7-juin-2023-9h00/)\\n\"\n",
      "                 '* ### [Les candidatures pour l’année 2023-2024 sont ouvertes '\n",
      "                 '!](https://fabeon.fr/2023/05/19/les-candidatures-pour-lannee-2023-2024-sont-ouvertes/)\\n'\n",
      "                 '---\\n'\n",
      "                 ' [![Les candidatures pour l’année 2023-2024 sont ouvertes '\n",
      "                 \"!](data:image/svg+xml,%3Csvg%20xmlns='http://www.w3.org/2000/svg'%20viewBox='0%200%201078%20802'%3E%3C/svg%3E)](https://fabeon.fr/2023/05/19/les-candidatures-pour-lannee-2023-2024-sont-ouvertes/)\\n\"\n",
      "                 '#### Indicateurs sur l’année 2023 / 2024\\n'\n",
      "                 'Nombres de stagiaires : 43\\n'\n",
      "                 'Taux d’insertion dans l’emploi : 85,5%\\n'\n",
      "                 'Taux de réussite : 67,75%\\n'\n",
      "                 'Taux de satisfactions : 63%\\n'\n",
      "                 '#### \\n'\n",
      "                 '#### Cliquez ci-dessous pour visualiser notre certificat '\n",
      "                 'Qualiopi\\n'\n",
      "                 \"[![](data:image/svg+xml,%3Csvg%20xmlns='http://www.w3.org/2000/svg'%20viewBox='0%200%20900%20328'%3E%3C/svg%3E)](https://drive.google.com/file/d/1dZFifRk8jq1UZhaYNJMgAsYbNCL1vM0A/view)\\n\"\n",
      "                 '* '\n",
      "                 '[Campus](https://fabeon.fr/campus-impression-numerique/)Permutateur '\n",
      "                 'de Menu\\n'\n",
      "                 ' * [Formation développeur en intelligence '\n",
      "                 'artificielle](https://fabeon.fr/campus-impression-numerique/formation-intensive-developpeur-en-intelligence-artificielle/)\\n'\n",
      "                 ' * [Formation intensive impression '\n",
      "                 '3D](https://fabeon.fr/campus-impression-numerique/formation-intensive-impression-3d/)\\n'\n",
      "                 ' * [Technicien en impression '\n",
      "                 '3D](https://fabeon.fr/campus-impression-numerique/technicien-en-impression-3d/)\\n'\n",
      "                 ' * [Bachelor Digital '\n",
      "                 'Printing](https://fabeon.fr/campus-impression-numerique/bachelor-digital-printing/)\\n'\n",
      "                 ' * [Formation des '\n",
      "                 'salariés](https://fabeon.fr/campus-impression-numerique/formation-continue/)\\n'\n",
      "                 ' * [Formulaire '\n",
      "                 'candidature](https://fabeon.fr/campus-impression-numerique/dossier-candidature-campus/)\\n'\n",
      "                 '* [Studio Fabéon](https://fabeon.fr/incubateur-startup/)\\n'\n",
      "                 '* '\n",
      "                 '[Smartfactory](https://fabeon.fr/micro-factory-fablab-impression/)\\n'\n",
      "                 '* [À la une](https://fabeon.fr/actualites/)\\n'\n",
      "                 '* [Contact](https://fabeon.fr/contact/)\\n'\n",
      "                 '[](https://www.linkedin.com/company/84497353/)[](https://www.facebook.com/fabeon.campus)[](https://www.instagram.com/fabeon_des_metiers_davenir/)\\n'\n",
      "                 \"![](data:image/svg+xml,%3Csvg%20xmlns='http://www.w3.org/2000/svg'%20viewBox='0%200%202000%202000'%3E%3C/svg%3E)\\n\"\n",
      "                 '###### \\n'\n",
      "                 \"**Parc d'Innovation - Strasbourg Sud**\\n\"\n",
      "                 '80 rue Tobias Stimmer\\n'\n",
      "                 '67400 Illkirch-Graffenstaden\\n'\n",
      "                 '\\\\+33 (0) 3 67 15 59 01\\n'\n",
      "                 '* [LinkedIn](https://www.linkedin.com/company/84497353)\\n'\n",
      "                 '* [Facebook](https://www.facebook.com/fabeon.campus)\\n'\n",
      "                 '* '\n",
      "                 '[Instagram](https://www.instagram.com/fabeon_des_metiers_davenir/)\\n'\n",
      "                 'Copyright © 2024 Fabéon -[Mentions '\n",
      "                 'légales](https://fabeon.fr/mentions-legales/)\\n'\n",
      "                 '* [English](https://fabeon.fr/en/)',\n",
      " 'type': 'Document'}\n"
     ]
    }
   ],
   "source": [
    "pprint(dict(data[0]))"
   ]
  },
  {
   "cell_type": "code",
   "execution_count": null,
   "id": "f3b547aa-2601-424c-8cc0-2f34a4d22f36",
   "metadata": {},
   "outputs": [],
   "source": []
  },
  {
   "cell_type": "code",
   "execution_count": null,
   "id": "9c1f2e7b-56e1-40d7-a1fc-3bab3852ef3b",
   "metadata": {},
   "outputs": [],
   "source": []
  },
  {
   "cell_type": "markdown",
   "id": "b0cbee33-3862-4a44-a26b-0b21e3239561",
   "metadata": {},
   "source": [
    "### Préparation"
   ]
  },
  {
   "cell_type": "code",
   "execution_count": 18,
   "id": "359968dd-c06b-40d9-82ef-5e602463bcc6",
   "metadata": {},
   "outputs": [],
   "source": [
    "from langchain_text_splitters import MarkdownHeaderTextSplitter"
   ]
  },
  {
   "cell_type": "code",
   "execution_count": 19,
   "id": "ba3f084d-5934-4e98-853a-5e188bea67db",
   "metadata": {},
   "outputs": [],
   "source": [
    "headers_to_split_on = [\n",
    "    (\"#\", \"Header 1\"),\n",
    "    (\"##\", \"Header 2\"),\n",
    "    (\"###\", \"Header 3\"),\n",
    "]"
   ]
  },
  {
   "cell_type": "code",
   "execution_count": 20,
   "id": "1eb697e2-706d-4f35-9699-6716d3bb895a",
   "metadata": {},
   "outputs": [],
   "source": [
    "markdown_splitter = MarkdownHeaderTextSplitter(headers_to_split_on, strip_headers=False)\n",
    "md_header_splits = markdown_splitter.split_text(data[0].page_content)"
   ]
  },
  {
   "cell_type": "code",
   "execution_count": 22,
   "id": "784ccd53-74a8-4d9e-a1a9-9faf6115fff3",
   "metadata": {},
   "outputs": [],
   "source": [
    "markdown_splitter = MarkdownHeaderTextSplitter(\n",
    "    headers_to_split_on,\n",
    "    strip_headers=False\n",
    ")"
   ]
  },
  {
   "cell_type": "code",
   "execution_count": 23,
   "id": "fe33a537-c8fc-4927-aabb-610b0a845cc0",
   "metadata": {},
   "outputs": [],
   "source": [
    "docs = []\n",
    "for doc in data:\n",
    "    md_header_splits = markdown_splitter.split_text(doc.page_content)\n",
    "    docs += md_header_splits"
   ]
  },
  {
   "cell_type": "code",
   "execution_count": 24,
   "id": "71c670e1-c708-4e6f-9027-9d71e3649209",
   "metadata": {},
   "outputs": [
    {
     "data": {
      "text/plain": [
       "256"
      ]
     },
     "execution_count": 24,
     "metadata": {},
     "output_type": "execute_result"
    }
   ],
   "source": [
    "len(docs)"
   ]
  },
  {
   "cell_type": "code",
   "execution_count": 25,
   "id": "50a9ca95-b13c-46ad-8390-8bac652dd7d4",
   "metadata": {},
   "outputs": [
    {
     "data": {
      "text/plain": [
       "Document(metadata={'Header 3': 'Les dates de nos prochains ateliers découverte'}, page_content='### Les dates de nos prochains ateliers découverte\\nMercredi 6 novembre (en visio) 17h30 à 18h15\\nMercredi 20 novembre (en visio) 17h30 à 18h15\\nMercredi 4 décembre (sur place) 17h30 à 18h15\\n[Lire la suite](https://www.linkedin.com/school/91674952/admin/page-posts/published/)')"
      ]
     },
     "execution_count": 25,
     "metadata": {},
     "output_type": "execute_result"
    }
   ],
   "source": [
    "docs[2]"
   ]
  },
  {
   "cell_type": "markdown",
   "id": "402b9e0e-9457-48bd-bc4a-06b09a050a55",
   "metadata": {},
   "source": [
    "## Le machine learning"
   ]
  },
  {
   "cell_type": "markdown",
   "id": "5fbade43-98d0-4612-9e47-abccca48b507",
   "metadata": {},
   "source": [
    "### Peuplement de la base de données vectorielle"
   ]
  },
  {
   "cell_type": "markdown",
   "id": "1af6d48f-700e-49a8-9d74-1d46ab647e24",
   "metadata": {},
   "source": [
    "#### Transformation des documents en vecteurs"
   ]
  },
  {
   "cell_type": "code",
   "execution_count": 28,
   "id": "a6ac8ae2-b0a3-421b-baa8-93b7534193e4",
   "metadata": {},
   "outputs": [
    {
     "name": "stderr",
     "output_type": "stream",
     "text": [
      "/home/jmfrmg/Projets/devia/LEX_RAG_GRAG/.venv/lib/python3.12/site-packages/sentence_transformers/cross_encoder/CrossEncoder.py:13: TqdmWarning: IProgress not found. Please update jupyter and ipywidgets. See https://ipywidgets.readthedocs.io/en/stable/user_install.html\n",
      "  from tqdm.autonotebook import tqdm, trange\n"
     ]
    }
   ],
   "source": [
    "import numpy as np\n",
    "from sentence_transformers import SentenceTransformer"
   ]
  },
  {
   "cell_type": "code",
   "execution_count": 29,
   "id": "05295707-a49f-4b5d-be07-b2c153cd8a9d",
   "metadata": {},
   "outputs": [],
   "source": [
    "embedding_model = SentenceTransformer(\"sentence-transformers/distiluse-base-multilingual-cased-v2\")"
   ]
  },
  {
   "cell_type": "code",
   "execution_count": 30,
   "id": "9c91dca5-bd6f-4705-a322-fdce19f9ca8e",
   "metadata": {},
   "outputs": [],
   "source": [
    "#embedding_model.to(\"cuda\")"
   ]
  },
  {
   "cell_type": "code",
   "execution_count": null,
   "id": "bf9e2dd7-e993-4271-945d-6046ac0ce86d",
   "metadata": {},
   "outputs": [],
   "source": []
  },
  {
   "cell_type": "code",
   "execution_count": 31,
   "id": "cf36c2cf-2285-4014-aff4-6bfa72fa6566",
   "metadata": {},
   "outputs": [],
   "source": [
    "king_embedding = embedding_model.encode(\"king\")\n",
    "man_embedding = embedding_model.encode(\"man\")\n",
    "woman_embedding = embedding_model.encode(\"woman\")\n",
    "queen_embedding = embedding_model.encode(\"queen\")\n",
    "squirrel_embedding = embedding_model.encode(\"squirrel\")\n",
    "cup_embedding = embedding_model.encode(\"cup\")"
   ]
  },
  {
   "cell_type": "code",
   "execution_count": null,
   "id": "f703ef20-5d7e-478d-b193-b33004a6e052",
   "metadata": {},
   "outputs": [],
   "source": []
  },
  {
   "cell_type": "code",
   "execution_count": 32,
   "id": "9112484c-f52f-4b80-ad71-89ea8e498207",
   "metadata": {},
   "outputs": [],
   "source": [
    "from scipy import spatial\n",
    "\n",
    "result = 1 - spatial.distance.cosine(king_embedding, cup_embedding)"
   ]
  },
  {
   "cell_type": "code",
   "execution_count": 33,
   "id": "fdb9113f-a490-4273-9154-962a47ae6647",
   "metadata": {},
   "outputs": [
    {
     "data": {
      "text/plain": [
       "0.41686059701367717"
      ]
     },
     "execution_count": 33,
     "metadata": {},
     "output_type": "execute_result"
    }
   ],
   "source": [
    "result"
   ]
  },
  {
   "cell_type": "code",
   "execution_count": 34,
   "id": "8e04b875-9a24-4165-8b29-5371caaf0ec9",
   "metadata": {},
   "outputs": [
    {
     "data": {
      "text/plain": [
       "0.8508266252933384"
      ]
     },
     "execution_count": 34,
     "metadata": {},
     "output_type": "execute_result"
    }
   ],
   "source": [
    "1 - spatial.distance.cosine(king_embedding, queen_embedding)"
   ]
  },
  {
   "cell_type": "code",
   "execution_count": 35,
   "id": "d596aa4f-45a1-4ad6-9adf-f9956851f024",
   "metadata": {},
   "outputs": [
    {
     "data": {
      "text/plain": [
       "0.45114378011149814"
      ]
     },
     "execution_count": 35,
     "metadata": {},
     "output_type": "execute_result"
    }
   ],
   "source": [
    "1 - spatial.distance.cosine(king_embedding, woman_embedding)"
   ]
  },
  {
   "cell_type": "code",
   "execution_count": null,
   "id": "e44f46db-f39e-4678-be0b-0e97773497ba",
   "metadata": {},
   "outputs": [],
   "source": []
  },
  {
   "cell_type": "code",
   "execution_count": null,
   "id": "84de9896-284a-4eae-99b6-0bd9b5ad98a8",
   "metadata": {},
   "outputs": [],
   "source": []
  },
  {
   "cell_type": "code",
   "execution_count": null,
   "id": "4a6742e3-14f7-400e-8826-23654bc1c06f",
   "metadata": {},
   "outputs": [],
   "source": []
  },
  {
   "cell_type": "code",
   "execution_count": 36,
   "id": "5da907bb-2b6e-4c63-b812-2e45683c37f2",
   "metadata": {},
   "outputs": [],
   "source": [
    "for doc_list in docs:\n",
    "    text_embeddings = np.array([embedding_model.encode(doc.page_content) for doc in docs])"
   ]
  },
  {
   "cell_type": "code",
   "execution_count": 36,
   "id": "5d9c24ec-5ef7-46da-bb45-f69a83835adb",
   "metadata": {},
   "outputs": [
    {
     "data": {
      "text/plain": [
       "(281, 512)"
      ]
     },
     "execution_count": 36,
     "metadata": {},
     "output_type": "execute_result"
    }
   ],
   "source": [
    "text_embeddings.shape"
   ]
  },
  {
   "cell_type": "markdown",
   "id": "e7c67516-deed-459c-a74b-e543029bffb8",
   "metadata": {},
   "source": [
    "#### Peuplement de la base de données"
   ]
  },
  {
   "cell_type": "code",
   "execution_count": 37,
   "id": "ab1de5ed-5276-4341-a59e-d2db2004b900",
   "metadata": {},
   "outputs": [],
   "source": [
    "import faiss"
   ]
  },
  {
   "cell_type": "code",
   "execution_count": 38,
   "id": "85a17015-3ffc-4e64-a180-1770be3f753f",
   "metadata": {},
   "outputs": [],
   "source": [
    "d = text_embeddings.shape[1]"
   ]
  },
  {
   "cell_type": "code",
   "execution_count": 39,
   "id": "6635daac-7767-4e57-bf47-1210ba41ec20",
   "metadata": {},
   "outputs": [],
   "source": [
    "index = faiss.IndexFlatL2(d)\n",
    "index.add(text_embeddings)"
   ]
  },
  {
   "cell_type": "code",
   "execution_count": null,
   "id": "dbee1397-051b-47ce-b524-1443630cfd27",
   "metadata": {},
   "outputs": [],
   "source": []
  },
  {
   "cell_type": "markdown",
   "id": "9a7c1cf0-8ceb-4fb8-97c8-42e027f7b910",
   "metadata": {},
   "source": [
    "### Génération augmentée"
   ]
  },
  {
   "cell_type": "code",
   "execution_count": 40,
   "id": "b30ad32d-4d27-49cc-a943-440f49f97197",
   "metadata": {},
   "outputs": [],
   "source": [
    "from mistralai import Mistral"
   ]
  },
  {
   "cell_type": "code",
   "execution_count": 41,
   "id": "c6be3912-6475-4995-89b6-e1bf9e63d112",
   "metadata": {},
   "outputs": [],
   "source": [
    "llm_client = Mistral(api_key=MISTRAL_API_KEY)"
   ]
  },
  {
   "cell_type": "code",
   "execution_count": 42,
   "id": "16e1696c-798d-4d11-a9c5-367cb223e49c",
   "metadata": {},
   "outputs": [],
   "source": [
    "question = \"Fabéon est-il un incubateur de startups ?\"\n",
    "question1 = \"Quelles sont les formations proposées par Fabéon ?\"\n",
    "question2 = \"Quelles sont les dates des ateliers découverte ?\"\n",
    "question_embeddings = np.array([embedding_model.encode(question)])"
   ]
  },
  {
   "cell_type": "code",
   "execution_count": null,
   "id": "c4882d8a-a15b-4846-a13a-445eda0d418f",
   "metadata": {},
   "outputs": [],
   "source": []
  },
  {
   "cell_type": "code",
   "execution_count": 45,
   "id": "c3476960-4c85-4167-a0ab-2f53c706da90",
   "metadata": {},
   "outputs": [],
   "source": [
    "# Recherche dans la base de données vectorielle ans ajouter de contexte\n",
    "D, I = index.search(question_embeddings, k=3)\n",
    "retrieved_chunk = \"\\n\".join([docs[i].page_content for i in I.tolist()[0]]) "
   ]
  },
  {
   "cell_type": "code",
   "execution_count": null,
   "id": "246245ca-7a7c-4707-a967-cdf96e441a01",
   "metadata": {},
   "outputs": [],
   "source": []
  },
  {
   "cell_type": "code",
   "execution_count": 46,
   "id": "3b8f0545-902f-436d-bb08-6e0b617e3ecd",
   "metadata": {},
   "outputs": [],
   "source": [
    "# Recherche dans la base de données vectorielle avec contexte\n",
    "# Les deux documents précédents et suivants sont ajoutés\n",
    "D, I = index.search(question_embeddings, k=3)\n",
    "\n",
    "retrieved_chunk = []\n",
    "test_chunk = []\n",
    "for i in I.tolist()[0]:\n",
    "    test_chunk.append([docs[i2].page_content for i2 in range(i-2,i+3)])\n",
    "    chunk = \"\".join([docs[i2].page_content for i2 in range(i-2,i+3)])\n",
    "    retrieved_chunk.append(chunk)\n",
    "retrieved_chunk = \"\\n\".join(retrieved_chunk)"
   ]
  },
  {
   "cell_type": "code",
   "execution_count": null,
   "id": "0bbc77fc-783c-46fe-8345-94fe34c13d92",
   "metadata": {},
   "outputs": [],
   "source": []
  },
  {
   "cell_type": "code",
   "execution_count": 47,
   "id": "9661795c-5c8e-4fcb-b306-d9028afbdf37",
   "metadata": {},
   "outputs": [],
   "source": [
    "prompt = f\"\"\"\n",
    "Context information is below.\n",
    "---------------------\n",
    "{retrieved_chunk}\n",
    "---------------------\n",
    "Given the context information and not prior knowledge, answer the query.\n",
    "Query: {question}\n",
    "Answer:\n",
    "\"\"\""
   ]
  },
  {
   "cell_type": "code",
   "execution_count": 48,
   "id": "a9f5e289-0fa5-424d-8f00-c205e0ea05d8",
   "metadata": {},
   "outputs": [],
   "source": [
    "def run_mistral(user_message, model=\"mistral-large-latest\"):\n",
    "    messages = [\n",
    "        {\n",
    "            \"role\": \"user\", \"content\": user_message\n",
    "        }\n",
    "    ]\n",
    "    chat_response = llm_client.chat.complete(\n",
    "        model=model,\n",
    "        messages=messages\n",
    "    )\n",
    "    return (chat_response.choices[0].message.content)"
   ]
  },
  {
   "cell_type": "code",
   "execution_count": 49,
   "id": "8949e254-2286-4bc8-9eae-af52a5d2933c",
   "metadata": {},
   "outputs": [
    {
     "name": "stdout",
     "output_type": "stream",
     "text": [
      "Fabéon n'est pas un nom largement reconnu comme un incubateur de startups. Il est possible que Fabéon soit une organisation locale ou spécialisée qui n'a pas atteint une notoriété internationale. Les incubateurs de startups sont des structures qui offrent des ressources, des conseils, du financement et un espace de travail aux jeunes entreprises pour les aider à démarrer et à croître.\n",
      "\n",
      "Si vous avez des informations spécifiques ou un contexte particulier concernant Fabéon, n'hésitez pas à les partager pour que je puisse vous fournir une réponse plus précise.\n"
     ]
    }
   ],
   "source": [
    "print(run_mistral(question))"
   ]
  },
  {
   "cell_type": "code",
   "execution_count": 50,
   "id": "345f56fc-0f4a-4dcf-b11c-509488c91bd2",
   "metadata": {},
   "outputs": [
    {
     "name": "stdout",
     "output_type": "stream",
     "text": [
      "Oui, Fabéon est un incubateur de startups. Le texte mentionne que Fabéon Campus propose un cursus professionnalisant et résolument immersif, où les apprenants côtoient des startups, des experts, et un écosystème dynamique. De plus, il est explicitement indiqué que Fabéon est situé dans un parc d'innovation qui inclut un incubateur pour accueillir les startups et les innovateurs.\n"
     ]
    }
   ],
   "source": [
    "print(run_mistral(prompt))"
   ]
  },
  {
   "cell_type": "code",
   "execution_count": null,
   "id": "535716fb-51d3-4c19-a8c5-9d1dc72ebfd0",
   "metadata": {},
   "outputs": [],
   "source": []
  },
  {
   "cell_type": "code",
   "execution_count": null,
   "id": "60e4977a-f16b-47f2-af11-5193cd3521d1",
   "metadata": {},
   "outputs": [],
   "source": []
  },
  {
   "cell_type": "code",
   "execution_count": null,
   "id": "ed63d979-4e5a-4182-9eb0-0fea4a47d0c6",
   "metadata": {},
   "outputs": [],
   "source": []
  },
  {
   "cell_type": "code",
   "execution_count": null,
   "id": "4d5101f3-8676-45a3-936f-917c8ad07989",
   "metadata": {},
   "outputs": [],
   "source": []
  },
  {
   "cell_type": "code",
   "execution_count": null,
   "id": "6abf7cfa-2c84-4050-a7d6-2dd69c4b0f2f",
   "metadata": {},
   "outputs": [],
   "source": []
  },
  {
   "cell_type": "code",
   "execution_count": null,
   "id": "f885632c-cffe-4eab-a91a-ae54c72a87f6",
   "metadata": {},
   "outputs": [],
   "source": []
  },
  {
   "cell_type": "code",
   "execution_count": null,
   "id": "edc85019-48bf-4b9f-b6c0-0e145db47f1d",
   "metadata": {},
   "outputs": [],
   "source": []
  },
  {
   "cell_type": "code",
   "execution_count": null,
   "id": "f5fb1ee3-58ae-43bf-9d5d-5ad671ed7999",
   "metadata": {},
   "outputs": [],
   "source": []
  },
  {
   "cell_type": "code",
   "execution_count": null,
   "id": "25992314-7725-40cf-815d-c8836ac96db5",
   "metadata": {},
   "outputs": [],
   "source": []
  },
  {
   "cell_type": "code",
   "execution_count": null,
   "id": "660a486c-19df-4126-916c-9d165d971780",
   "metadata": {},
   "outputs": [],
   "source": []
  },
  {
   "cell_type": "code",
   "execution_count": null,
   "id": "aa8e791c-24f9-4e84-bcc6-4340832f7603",
   "metadata": {},
   "outputs": [],
   "source": []
  },
  {
   "cell_type": "code",
   "execution_count": null,
   "id": "f135649b-e0d7-4768-a1da-5b7e1f6f8988",
   "metadata": {},
   "outputs": [],
   "source": []
  },
  {
   "cell_type": "code",
   "execution_count": null,
   "id": "72287c47-6225-4ab4-aac0-97fafcd0129d",
   "metadata": {},
   "outputs": [],
   "source": []
  },
  {
   "cell_type": "code",
   "execution_count": null,
   "id": "b0607d8b-730d-4195-a199-0f5572b15566",
   "metadata": {},
   "outputs": [],
   "source": []
  },
  {
   "cell_type": "code",
   "execution_count": null,
   "id": "1e2748f6-2a04-46c7-8e44-afbaafab314d",
   "metadata": {},
   "outputs": [],
   "source": []
  },
  {
   "cell_type": "code",
   "execution_count": null,
   "id": "ee1a9089-57a5-48c6-9d2f-e49f915ac4a5",
   "metadata": {},
   "outputs": [],
   "source": []
  },
  {
   "cell_type": "code",
   "execution_count": null,
   "id": "dd867b93-cd85-4b09-9644-750a5b154126",
   "metadata": {},
   "outputs": [],
   "source": []
  },
  {
   "cell_type": "code",
   "execution_count": null,
   "id": "d845bdda-e3dc-455f-95ed-22975259e44c",
   "metadata": {},
   "outputs": [],
   "source": []
  }
 ],
 "metadata": {
  "kernelspec": {
   "display_name": "Python 3 (ipykernel)",
   "language": "python",
   "name": "python3"
  },
  "language_info": {
   "codemirror_mode": {
    "name": "ipython",
    "version": 3
   },
   "file_extension": ".py",
   "mimetype": "text/x-python",
   "name": "python",
   "nbconvert_exporter": "python",
   "pygments_lexer": "ipython3",
   "version": "3.12.4"
  }
 },
 "nbformat": 4,
 "nbformat_minor": 5
}
